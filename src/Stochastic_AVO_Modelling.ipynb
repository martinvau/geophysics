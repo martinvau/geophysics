{
 "cells": [
  {
   "cell_type": "markdown",
   "metadata": {},
   "source": [
    "# Stochastic AVO Modelling\n",
    "\n",
    "----------------------------------------------------------------------------\n",
    "\n",
    "Application designed to do the following:\n",
    "    (1) read user inputs for Mean and StdDev for each facies\n",
    "    (2) create PDFs for each facies (N samples)\n",
    "    (3) plot the PDFs -- sampled data and ellipses\n",
    "    \n",
    "Created by Damian Leslie, 2020  \n",
    "\n",
    "----------------------------------------------------------------------------"
   ]
  },
  {
   "cell_type": "markdown",
   "metadata": {},
   "source": [
    "###### import libraries"
   ]
  },
  {
   "cell_type": "code",
   "execution_count": 309,
   "metadata": {},
   "outputs": [],
   "source": [
    "import matplotlib.pyplot as plt\n",
    "import pandas as pd\n",
    "import numpy as np\n",
    "import scipy.stats as stats\n",
    "import seaborn as sns\n",
    "\n",
    "from scipy.stats import norm, chi2, uniform, beta, gamma, lognorm\n",
    "from statsmodels.graphics.plot_grids import scatter_ellipse\n",
    "from matplotlib.patches import Ellipse"
   ]
  },
  {
   "cell_type": "markdown",
   "metadata": {},
   "source": [
    "###### ask User for total number of facies (n_facies) and label names"
   ]
  },
  {
   "cell_type": "code",
   "execution_count": 310,
   "metadata": {},
   "outputs": [
    {
     "name": "stdin",
     "output_type": "stream",
     "text": [
      "Enter number of Facies to be modelled :  4\n"
     ]
    },
    {
     "name": "stdout",
     "output_type": "stream",
     "text": [
      "Assign name to Facies # 1\n"
     ]
    },
    {
     "name": "stdin",
     "output_type": "stream",
     "text": [
      "Facies:  shale\n"
     ]
    },
    {
     "name": "stdout",
     "output_type": "stream",
     "text": [
      "Assign name to Facies # 2\n"
     ]
    },
    {
     "name": "stdin",
     "output_type": "stream",
     "text": [
      "Facies:  brine\n"
     ]
    },
    {
     "name": "stdout",
     "output_type": "stream",
     "text": [
      "Assign name to Facies # 3\n"
     ]
    },
    {
     "name": "stdin",
     "output_type": "stream",
     "text": [
      "Facies:  oil\n"
     ]
    },
    {
     "name": "stdout",
     "output_type": "stream",
     "text": [
      "Assign name to Facies # 4\n"
     ]
    },
    {
     "name": "stdin",
     "output_type": "stream",
     "text": [
      "Facies:  gas\n"
     ]
    },
    {
     "name": "stdout",
     "output_type": "stream",
     "text": [
      "Stochastic AVO Facies are:  ['Shale', 'Brine', 'Oil', 'Gas']\n"
     ]
    }
   ],
   "source": [
    "facies_list = []   # creating an empty list\n",
    "\n",
    "n_facies = int(input(\"Enter number of Facies to be modelled : \"))   # number of Facies to be modelled\n",
    "\n",
    "for i in range(0, n_facies):   # iterating over the number of Facies\n",
    "    print(\"Assign name to Facies #\",i+1)  \n",
    "    ele = str(input(\"Facies: \"))   # User input Facies name, i.e. shale, brine, oil, gas, etc\n",
    "    facies_list.append(ele.capitalize()) # adding the element to the list and capitalise\n",
    "print(\"Stochastic AVO Facies are: \",facies_list)"
   ]
  },
  {
   "cell_type": "markdown",
   "metadata": {},
   "source": [
    "###### Create dictionary of df's to hold the Mean and Std Dev for VP, Vs and Rho\n",
    "###### The facies' name is the dictionary key, the df are the values"
   ]
  },
  {
   "cell_type": "code",
   "execution_count": 311,
   "metadata": {},
   "outputs": [
    {
     "name": "stdout",
     "output_type": "stream",
     "text": [
      "******************************************************\n",
      "*********************** Shale ************************\n",
      "For Vp :\n"
     ]
    },
    {
     "name": "stdin",
     "output_type": "stream",
     "text": [
      "Enter Mean and Standard Deviation, separated by whitespace:  2800 50\n"
     ]
    },
    {
     "name": "stdout",
     "output_type": "stream",
     "text": [
      "For Vs :\n"
     ]
    },
    {
     "name": "stdin",
     "output_type": "stream",
     "text": [
      "Enter Mean and Standard Deviation, separated by whitespace:  1500 50\n"
     ]
    },
    {
     "name": "stdout",
     "output_type": "stream",
     "text": [
      "For Rho :\n"
     ]
    },
    {
     "name": "stdin",
     "output_type": "stream",
     "text": [
      "Enter Mean and Standard Deviation, separated by whitespace:  2.7 0.05\n"
     ]
    },
    {
     "name": "stdout",
     "output_type": "stream",
     "text": [
      "******************************************************\n",
      "*********************** Brine ************************\n",
      "For Vp :\n"
     ]
    },
    {
     "name": "stdin",
     "output_type": "stream",
     "text": [
      "Enter Mean and Standard Deviation, separated by whitespace:  2600 50\n"
     ]
    },
    {
     "name": "stdout",
     "output_type": "stream",
     "text": [
      "For Vs :\n"
     ]
    },
    {
     "name": "stdin",
     "output_type": "stream",
     "text": [
      "Enter Mean and Standard Deviation, separated by whitespace:  1300 50\n"
     ]
    },
    {
     "name": "stdout",
     "output_type": "stream",
     "text": [
      "For Rho :\n"
     ]
    },
    {
     "name": "stdin",
     "output_type": "stream",
     "text": [
      "Enter Mean and Standard Deviation, separated by whitespace:  2.5 0.05\n"
     ]
    },
    {
     "name": "stdout",
     "output_type": "stream",
     "text": [
      "******************************************************\n",
      "*********************** Oil ************************\n",
      "For Vp :\n"
     ]
    },
    {
     "name": "stdin",
     "output_type": "stream",
     "text": [
      "Enter Mean and Standard Deviation, separated by whitespace:  2400 50\n"
     ]
    },
    {
     "name": "stdout",
     "output_type": "stream",
     "text": [
      "For Vs :\n"
     ]
    },
    {
     "name": "stdin",
     "output_type": "stream",
     "text": [
      "Enter Mean and Standard Deviation, separated by whitespace:  1200 50\n"
     ]
    },
    {
     "name": "stdout",
     "output_type": "stream",
     "text": [
      "For Rho :\n"
     ]
    },
    {
     "name": "stdin",
     "output_type": "stream",
     "text": [
      "Enter Mean and Standard Deviation, separated by whitespace:  2.3 0.05\n"
     ]
    },
    {
     "name": "stdout",
     "output_type": "stream",
     "text": [
      "******************************************************\n",
      "*********************** Gas ************************\n",
      "For Vp :\n"
     ]
    },
    {
     "name": "stdin",
     "output_type": "stream",
     "text": [
      "Enter Mean and Standard Deviation, separated by whitespace:  2000 50\n"
     ]
    },
    {
     "name": "stdout",
     "output_type": "stream",
     "text": [
      "For Vs :\n"
     ]
    },
    {
     "name": "stdin",
     "output_type": "stream",
     "text": [
      "Enter Mean and Standard Deviation, separated by whitespace:  1000 50\n"
     ]
    },
    {
     "name": "stdout",
     "output_type": "stream",
     "text": [
      "For Rho :\n"
     ]
    },
    {
     "name": "stdin",
     "output_type": "stream",
     "text": [
      "Enter Mean and Standard Deviation, separated by whitespace:  2.0 0.05\n",
      "Enter the number (integer) of realisations for the stochastic model:  1000\n",
      "Enter the Near Angle (integer, degrees) to be modelled:  10\n",
      "Enter the Far Angle (integer, degrees) to be modelled:  30\n"
     ]
    }
   ],
   "source": [
    "elastic_inputs = ['Vp', 'Vs', 'Rho']  # list of elastic props\n",
    "measure = ['Mean', 'StdDev']          # list of statistical measures\n",
    "num_cols = len(facies_list) * len(elastic_inputs) * len(measure)  # get number of list columns\n",
    "col_name = []    # create empty list for column names\n",
    "\n",
    "while i <= num_cols:\n",
    "    for facies in facies_list:\n",
    "        for elas in elastic_inputs:\n",
    "            for meas in measure:\n",
    "                temp = facies+'_'+elas+'_'+meas   # set column names\n",
    "                col_name.append(temp)   # append the name to the list\n",
    "                i = i + 1\n",
    "\n",
    "facies_array = np.zeros(shape=(1,len(col_name)))   # make array of zeros\n",
    "facies_input = pd.DataFrame(facies_array, columns = col_name)   # convert to df with column names\n",
    "\n",
    "i = 0 \n",
    "for facies in facies_list:\n",
    "    print('******************************************************')\n",
    "    print('***********************', facies,'************************')\n",
    "    for elas in elastic_inputs:\n",
    "        print(\"For\",elas,\":\")\n",
    "        Mean, StdDev = [float(x) for x in (input(\"Enter Mean and Standard Deviation, separated by whitespace: \")).split()]\n",
    "        facies_input.iloc[0,i] = Mean   # store Mean\n",
    "        facies_input.iloc[0,i+1] = StdDev   # store Std Dev\n",
    "        i = i + 2  # increment to next elastic property\n",
    " \n",
    "n = int(input(\"Enter the number (integer) of realisations for the stochastic model: \"))  # stochastic realisations\n",
    "Near = int(input(\"Enter the Near Angle (integer, degrees) to be modelled: \"))  # modelled Near stack\n",
    "Far = int(input(\"Enter the Far Angle (integer, degrees) to be modelled: \"))   # modelled Far stack\n",
    "R_near = 'R_'+str(Near)   # set the angle to a string to become a df column name\n",
    "R_far =  'R_'+str(Far)    # set the angle to a string to become a df column name"
   ]
  },
  {
   "cell_type": "markdown",
   "metadata": {},
   "source": [
    "###### User input is now finished -- start calculations "
   ]
  },
  {
   "cell_type": "markdown",
   "metadata": {},
   "source": []
  },
  {
   "cell_type": "markdown",
   "metadata": {},
   "source": [
    "###### Generate synthetic reflection coefficients for simple half-space model\n",
    "\n",
    "    Layer 1 (Vp1, Vs1, Rho1)      <-- assumed as Shale\n",
    "  ------------------------------\n",
    "    Layer 2 (Vp2, Vs2, Rho2)      <-- can be Shale, Brine, Oil, Gas, etc"
   ]
  },
  {
   "cell_type": "markdown",
   "metadata": {},
   "source": [
    "##### create a dictionary with names of temp df's to store the stochastic realisations"
   ]
  },
  {
   "cell_type": "code",
   "execution_count": 322,
   "metadata": {},
   "outputs": [],
   "source": [
    "df_names_list = [x + '_PDFs' for x in list(facies_list)]   # create list with output df names\n",
    " \n",
    "all_facies_PDFs = {}    # create dictionary with empty output df's\n",
    "for name in df_names_list:\n",
    "    all_facies_PDFs[name] = pd.DataFrame() "
   ]
  },
  {
   "cell_type": "markdown",
   "metadata": {},
   "source": [
    "##### set bounding shale PDFs outside the loop"
   ]
  },
  {
   "cell_type": "code",
   "execution_count": 323,
   "metadata": {},
   "outputs": [],
   "source": [
    "Vp1 = norm(facies_input['Shale_Vp_Mean'], facies_input['Shale_Vp_StdDev']).rvs(n)   # Vp1 realisations\n",
    "Vs1 = norm(facies_input['Shale_Vs_Mean'], facies_input['Shale_Vs_StdDev']).rvs(n)   # Vs1 realisations\n",
    "Rho1 = norm(facies_input['Shale_Rho_Mean'], facies_input['Shale_Rho_StdDev']).rvs(n)   # Rho1 realisations"
   ]
  },
  {
   "cell_type": "markdown",
   "metadata": {},
   "source": [
    "##### now loop over the target facies (including shale), first setting the facies PDF"
   ]
  },
  {
   "cell_type": "code",
   "execution_count": 324,
   "metadata": {},
   "outputs": [
    {
     "name": "stdout",
     "output_type": "stream",
     "text": [
      "Modelling 1000 realisations for Facies = Shale\n",
      "Modelling 1000 realisations for Facies = Brine\n",
      "Modelling 1000 realisations for Facies = Oil\n",
      "Modelling 1000 realisations for Facies = Gas\n"
     ]
    }
   ],
   "source": [
    "for facies in facies_list:\n",
    "    print('Modelling',n,'realisations for Facies =',facies)\n",
    "\n",
    "    Vp2 = norm(facies_input[facies+'_Vp_Mean'], facies_input[facies+'_Vp_StdDev']).rvs(n)   # Vp2 realisations\n",
    "    Vs2 = norm(facies_input[facies+'_Vs_Mean'], facies_input[facies+'_Vs_StdDev']).rvs(n)   # Vs2 realisations\n",
    "    Rho2 = norm(facies_input[facies+'_Rho_Mean'], facies_input[facies+'_Rho_StdDev']).rvs(n)  # Rho2 realisations\n",
    "\n",
    "    cols = [\"Vp1\",\"Vs1\",\"Rho1\",\"Vp2\",\"Vs2\",\"Rho2\"]   # set thedf column names\n",
    "        \n",
    "    elastic_props = pd.DataFrame([Vp1, Vs1, Rho1, Vp2, Vs2, Rho2])  # concatenate the arrays as df\n",
    "    elastic_props = elastic_props.T   # transpose\n",
    "    elastic_props.columns = cols   # set df column names\n",
    "\n",
    "    # calculate the variables for the 3-term AVO equation\n",
    "    elastic_props['Vp'] = (elastic_props.Vp1 + elastic_props.Vp2)/2\n",
    "    elastic_props['Vs'] = (elastic_props.Vs1 + elastic_props.Vs2)/2\n",
    "    elastic_props['Rho'] = (elastic_props.Rho1 + elastic_props.Rho2)/2\n",
    "    elastic_props['Vs_Vp_sqd'] = ( (elastic_props.Vs1/elastic_props.Vp1)**2 + (elastic_props.Vs2/elastic_props.Vp2)**2 ) / 2\n",
    "    elastic_props['dVp'] = elastic_props.Vp2 - elastic_props.Vp1\n",
    "    elastic_props['dVs'] = elastic_props.Vs2 - elastic_props.Vs1\n",
    "    elastic_props['dRho'] = elastic_props.Rho2 - elastic_props.Rho1\n",
    "    \n",
    "    # calculate 3-term AVO coefficients\n",
    "    elastic_props['A'] = 0.5*(elastic_props.dVp/elastic_props.Vp + elastic_props.dRho/elastic_props.Rho )\n",
    "    elastic_props['B'] = elastic_props.dVp/(2*elastic_props.Vp) - 4*(elastic_props.Vs_Vp_sqd)*(elastic_props.dVs/elastic_props.Vs) -2*(elastic_props.Vs_Vp_sqd)*(elastic_props.dRho/elastic_props.Rho)\n",
    "    elastic_props['C'] = 0.5*(elastic_props.dVp/elastic_props.Vp)\n",
    "    \n",
    "    # calculate the reflection coefficients for the given angles\n",
    "    elastic_props[R_near] = elastic_props.A + elastic_props.B*(np.sin(Near*np.pi/180)**2) + elastic_props.C*(np.sin(Near*np.pi/180)**2)*(np.tan(Near*np.pi/180)**2)\n",
    "    elastic_props[R_far] = elastic_props.A + elastic_props.B*(np.sin(Far*np.pi/180)**2) + elastic_props.C*(np.sin(Far*np.pi/180)**2)*(np.tan(Far*np.pi/180)**2)\n",
    "    \n",
    "    elastic_props_temp = elastic_props[[R_near, R_far]]      # extract the Near and Far reflection coefficients\n",
    "    \n",
    "    # write the 'elastic_props_temp' df to the corresponding df in the temp_df dictionary \n",
    "    df_name = [facies + '_PDFs']    \n",
    "\n",
    "    for i in df_name:\n",
    "        all_facies_PDFs[i] = elastic_props  # write the Near and Far rc's to a df within the facies_PDFs dictionary"
   ]
  },
  {
   "cell_type": "markdown",
   "metadata": {},
   "source": [
    "## Functions for calculating PDF statistics and plotting"
   ]
  },
  {
   "cell_type": "markdown",
   "metadata": {},
   "source": [
    "##### https://stats.stackexchange.com/questions/361017/proper-way-of-estimating-the-covariance-error-ellipse-in-2d"
   ]
  },
  {
   "cell_type": "markdown",
   "metadata": {},
   "source": [
    "##### define function for sorted eigenvalues and eigenvectors"
   ]
  },
  {
   "cell_type": "code",
   "execution_count": 325,
   "metadata": {},
   "outputs": [],
   "source": [
    "def eigsorted(cov):\n",
    "    '''\n",
    "    Eigenvalues and eigenvectors of the covariance matrix.\n",
    "    '''\n",
    "    vals, vecs = np.linalg.eigh(cov)\n",
    "    order = vals.argsort()[::-1]\n",
    "    return vals[order], vecs[:, order]"
   ]
  },
  {
   "cell_type": "markdown",
   "metadata": {},
   "source": [
    "##### define function for confidence ellipse"
   ]
  },
  {
   "cell_type": "code",
   "execution_count": 326,
   "metadata": {},
   "outputs": [],
   "source": [
    "def cov_ellipse2(points, cov, nstd):\n",
    "    \"\"\"\n",
    "    Source: https://stackoverflow.com/a/39749274/1391441\n",
    "    \"\"\"\n",
    "\n",
    "    vals, vecs = eigsorted(cov)\n",
    "    theta = np.degrees(np.arctan2(*vecs[::-1, 0]))\n",
    "    \n",
    "    # Confidence level\n",
    "    q = 2 * norm.cdf(nstd) - 1\n",
    "    r2 = chi2.ppf(q, 2)\n",
    "    \n",
    "    width, height = 2 * np.sqrt(vals * r2)\n",
    "    \n",
    "    return width, height, theta"
   ]
  },
  {
   "cell_type": "markdown",
   "metadata": {},
   "source": [
    "##### plotting data and ellipses -->  write as function???"
   ]
  },
  {
   "cell_type": "code",
   "execution_count": 327,
   "metadata": {},
   "outputs": [],
   "source": [
    "nstd = 2  ## number of Std Dev for the ellipses \n",
    "\n",
    "PDF_concat = pd.DataFrame()  # create an empty df to hold the rfc point data - final size will be [n*n_facies, 4]\n",
    "ellipse_concat = pd.DataFrame()  # make empty df for ellipse data: width, height , theta\n",
    "\n",
    "for pdf in df_names_list:\n",
    "    facies_label = pdf.split(\"_\", 1)[0]   # make facies_label by stripping everything after &  inlcuding underscore\n",
    "    \n",
    "    temp_df = all_facies_PDFs[pdf]   # extract the df from the dictionary\n",
    "    temp_rfc_df = temp_df[[R_near, R_far]]  # extract the R_near and R_far rfc columns\n",
    "    ellipse_centre = temp_rfc_df[[R_near, R_far]].mean(axis=0)   # Means of R_near and R_far are the centre of the ellipses\n",
    "\n",
    "    cov = np.cov(temp_rfc_df, rowvar=False)  # The 2x2 covariance matrix to base the ellipse on.\n",
    "   \n",
    "    width2, height2, theta2 = cov_ellipse2(temp_rfc_df, cov, nstd)  # calculate the ellipse parameters\n",
    "    ellipse_temp = pd.DataFrame(np.array([width2, height2, theta2])).T #save to temp df\n",
    "    ellipse_temp.columns = (\"width2\", \"height2\", \"theta2\")   # assign column names\n",
    "\n",
    "    PDF_concat = pd.concat([PDF_concat, temp_rfc_df.assign(facies=facies_label)])  # vert. concatenate temp_rfc_df values with facie_label\n",
    "    PDF_concat.reset_index(drop=True, inplace=True)  # stop index from resetting in each loop\n",
    "\n",
    "    ellipse_concat = pd.concat([ellipse_concat, ellipse_temp.assign(facies=facies_label)])  # vert. concatenate ellipse parameters \n",
    "    ellipse_concat.reset_index(drop=True, inplace=True)  # stop index from resetting in each loop\n",
    "\n"
   ]
  },
  {
   "cell_type": "markdown",
   "metadata": {},
   "source": [
    "##### define a function to map values of facies to a colour, then add a colour column to the df"
   ]
  },
  {
   "cell_type": "code",
   "execution_count": 328,
   "metadata": {},
   "outputs": [],
   "source": [
    "def set_value(row_number, assigned_value): \n",
    "    return assigned_value[row_number] \n",
    "    \n",
    "colour_dict = {'Shale' : 'black', 'Brine' : 'blue', 'Oil' : 'green', 'Gas' : 'red'}  # hard code the colours to match facies label -- in this case order is Shale, Brine, Oil, Gas \n",
    "PDF_concat['colour'] = PDF_concat['facies'].apply(set_value, args = (colour_dict, ))   # add colour column based on facies label"
   ]
  },
  {
   "cell_type": "markdown",
   "metadata": {},
   "source": [
    "##### plotting function using the sns.jointGrid format\n",
    "##### modified from https://stackoverflow.com/questions/35920885/how-to-overlay-a-seaborn-jointplot-with-a-marginal-distribution-histogram-fr"
   ]
  },
  {
   "cell_type": "code",
   "execution_count": 329,
   "metadata": {},
   "outputs": [],
   "source": [
    "def multivariateGrid(col_x, col_y, col_f, col_k, df, k_is_color=True, scatter_alpha=0.25):\n",
    "    def colored_scatter(x, y, c=None):\n",
    "        def scatter(*args, **kwargs):\n",
    "            args = (x, y)\n",
    "            if c is not None:\n",
    "                kwargs['c'] = c\n",
    "            kwargs['alpha'] = scatter_alpha\n",
    "            plt.scatter(*args, **kwargs)\n",
    "\n",
    "        return scatter\n",
    "\n",
    "    g = sns.JointGrid(x=col_x, y=col_y, xlim=(-0.5,0.5), ylim=(-0.5,0.5), data=df)\n",
    "    sns.set_style(\"whitegrid\")    \n",
    "    color = None\n",
    "    legends=df.facies.unique()  # extract the unique facies name for the plot legend\n",
    "    \n",
    "    for name, df_group in df.groupby(col_k):\n",
    "        if k_is_color:\n",
    "            color=name\n",
    "            g.plot_joint(colored_scatter(df_group[col_x],df_group[col_y],color))\n",
    "\n",
    "        sns.distplot(df_group[col_x].values, ax=g.ax_marg_x, hist=False, color=color)\n",
    "        sns.distplot(df_group[col_y].values, ax=g.ax_marg_y, hist=False, color=color, vertical=True)\n",
    "    # Do also global Hist:\n",
    "    #sns.distplot(df[col_x].values, ax=g.ax_marg_x, color='grey')\n",
    "    #sns.distplot(df[col_y].values.ravel(), ax=g.ax_marg_y, color='grey', vertical=True)\n",
    "    plt.legend(legends)"
   ]
  },
  {
   "cell_type": "markdown",
   "metadata": {},
   "source": [
    "##### now make the plot...."
   ]
  },
  {
   "cell_type": "code",
   "execution_count": 330,
   "metadata": {},
   "outputs": [
    {
     "name": "stderr",
     "output_type": "stream",
     "text": [
      "C:\\ProgramData\\Anaconda3\\lib\\site-packages\\scipy\\stats\\stats.py:1713: FutureWarning: Using a non-tuple sequence for multidimensional indexing is deprecated; use `arr[tuple(seq)]` instead of `arr[seq]`. In the future this will be interpreted as an array index, `arr[np.array(seq)]`, which will result either in an error or a different result.\n",
      "  return np.add.reduce(sorted[indexer] * weights, axis=axis) / sumval\n"
     ]
    },
    {
     "data": {
      "image/png": "[encoded data removed]",
      "text/plain": [
       "<Figure size 432x432 with 3 Axes>"
      ]
     },
     "metadata": {},
     "output_type": "display_data"
    }
   ],
   "source": [
    "multivariateGrid('R_10', 'R_30', 'facies', 'colour', df=PDF_concat)"
   ]
  },
  {
   "cell_type": "markdown",
   "metadata": {},
   "source": [
    "##### compare the input statistics and the PDF statistics as QC"
   ]
  },
  {
   "cell_type": "markdown",
   "metadata": {},
   "source": [
    "##### plotting an ellipse based on PDF stats"
   ]
  },
  {
   "cell_type": "code",
   "execution_count": 331,
   "metadata": {},
   "outputs": [],
   "source": [
    "#ax = plt.gca()\n",
    "#plt.scatter(temp_rfc_df[R_near], temp_rfc_df[R_far], c='r', s=1, alpha=.5)\n",
    "#ellipse2 = Ellipse(xy=ellipse_centre, width=width2, height=height2, angle=theta2,\n",
    "#                       edgecolor='r', fc='None', lw=.8, zorder=4)\n",
    "#ax.add_patch(ellipse2)"
   ]
  },
  {
   "cell_type": "code",
   "execution_count": null,
   "metadata": {},
   "outputs": [],
   "source": []
  }
 ],
 "metadata": {
  "kernelspec": {
   "display_name": "Python 3",
   "language": "python",
   "name": "python3"
  },
  "language_info": {
   "codemirror_mode": {
    "name": "ipython",
    "version": 3
   },
   "file_extension": ".py",
   "mimetype": "text/x-python",
   "name": "python",
   "nbconvert_exporter": "python",
   "pygments_lexer": "ipython3",
   "version": "3.7.0"
  }
 },
 "nbformat": 4,
 "nbformat_minor": 2
}
